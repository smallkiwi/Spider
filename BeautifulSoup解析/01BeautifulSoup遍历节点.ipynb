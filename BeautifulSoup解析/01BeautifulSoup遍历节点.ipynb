{
 "cells": [
  {
   "cell_type": "code",
   "execution_count": 2,
   "metadata": {
    "collapsed": true
   },
   "outputs": [],
   "source": [
    "from bs4 import BeautifulSoup"
   ]
  },
  {
   "cell_type": "code",
   "execution_count": 3,
   "metadata": {},
   "outputs": [],
   "source": [
    "html_doc = \"\"\"\n",
    "\n",
    "<html><head><title>The Dormouse's story</title></head>\n",
    "<body>\n",
    "\n",
    "\n",
    "\n",
    "<p class=\"title\"><b>The Dormouse's story</b></p>\n",
    "<p class=\"story\">Once upon a time there were three little sisters; and their names were\n",
    "<a href=\"http://example.com/elsie\" class=\"sister\" id=\"link1\">Elsie</a>,\n",
    "<a href=\"http://example.com/lacie\" class=\"sister\" id=\"link2\">Lacie</a>\n",
    "and<a href=\"http://example.com/tillie\" class=\"sister\" id=\"link3\">Tillie</a>;\n",
    "and they lived at the bottom of a well.</p>\n",
    "\n",
    "<p class=\"story\">...</p>\n",
    "\n",
    "\"\"\""
   ]
  },
  {
   "cell_type": "code",
   "execution_count": 4,
   "metadata": {},
   "outputs": [],
   "source": [
    "# 传入“字符串”,手动指定解析器\n",
    "soup = BeautifulSoup(html_doc,'lxml')"
   ]
  },
  {
   "cell_type": "code",
   "execution_count": 5,
   "metadata": {},
   "outputs": [
    {
     "data": {
      "text/plain": [
       "<b class=\"boldest\">Extremely bold</b>"
      ]
     },
     "execution_count": 5,
     "metadata": {},
     "output_type": "execute_result"
    }
   ],
   "source": [
    "'''Tag就是html或者xml中的标签'''\n",
    "soup = BeautifulSoup('<b class=\"boldest\">Extremely bold</b>','lxml')\n",
    "tag = soup.b\n",
    "tag"
   ]
  },
  {
   "cell_type": "code",
   "execution_count": 6,
   "metadata": {},
   "outputs": [
    {
     "data": {
      "text/plain": [
       "'b'"
      ]
     },
     "execution_count": 6,
     "metadata": {},
     "output_type": "execute_result"
    }
   ],
   "source": [
    "# Tag标签下也有对象，有两个重要的属性对象：name和attributes\n",
    "tag.name"
   ]
  },
  {
   "cell_type": "code",
   "execution_count": 7,
   "metadata": {},
   "outputs": [
    {
     "name": "stdout",
     "output_type": "stream",
     "text": [
      "['boldest']\n{'class': ['boldest']}\n"
     ]
    }
   ],
   "source": [
    "# 标签的属性操作和Python中的字典操作一样\n",
    "print(tag['class'])\n",
    "print(tag.attrs)"
   ]
  },
  {
   "cell_type": "code",
   "execution_count": 8,
   "metadata": {},
   "outputs": [
    {
     "name": "stdout",
     "output_type": "stream",
     "text": [
      "Extremely bold\n"
     ]
    }
   ],
   "source": [
    "'''NavigableString是可遍历字符串的意思，其实就是标签内包括的字符串'''\n",
    "print(tag.string)"
   ]
  },
  {
   "cell_type": "code",
   "execution_count": 16,
   "metadata": {},
   "outputs": [
    {
     "data": {
      "text/plain": [
       "<html><body><b class=\"boldest\">No longer bold</b></body></html>"
      ]
     },
     "execution_count": 16,
     "metadata": {},
     "output_type": "execute_result"
    }
   ],
   "source": [
    "'''tag中包含的字符串是不能编辑的，但是可以替换。'''\n",
    "tag.string.replace_with(\"No longer bold\")\n",
    "# 原来的soup也改变了\n",
    "soup"
   ]
  },
  {
   "cell_type": "code",
   "execution_count": 17,
   "metadata": {},
   "outputs": [
    {
     "data": {
      "text/plain": [
       "'[document]'"
      ]
     },
     "execution_count": 17,
     "metadata": {},
     "output_type": "execute_result"
    }
   ],
   "source": [
    "# BeautifulSoup对象表示的是一个文档的全部内容\n",
    "soup.name"
   ]
  },
  {
   "cell_type": "code",
   "execution_count": 22,
   "metadata": {},
   "outputs": [
    {
     "name": "stdout",
     "output_type": "stream",
     "text": [
      "Hey, buddy. Want to buy a used parser?\n"
     ]
    },
    {
     "data": {
      "text/plain": [
       "bs4.element.Comment"
      ]
     },
     "execution_count": 22,
     "metadata": {},
     "output_type": "execute_result"
    }
   ],
   "source": [
    "# comment对象是一个特殊类型的NavigableString对象(注释)\n",
    "markup = \"<b><!--Hey, buddy. Want to buy a used parser?--></b>\"\n",
    "soup = BeautifulSoup(markup,'lxml')\n",
    "comment = soup.b.string\n",
    "print(comment)\n",
    "type(comment)"
   ]
  },
  {
   "cell_type": "code",
   "execution_count": 49,
   "metadata": {},
   "outputs": [
    {
     "data": {
      "text/plain": [
       "<html><head><title>The Dormouse's story</title></head>\n<body>\n<p class=\"title\"><b>The Dormouse's story</b></p>\n<p class=\"story\">Once upon a time there were three little sisters; and their names were\n<a class=\"sister\" href=\"http://example.com/elsie\" id=\"link1\">Elsie</a>,\n<a class=\"sister\" href=\"http://example.com/lacie\" id=\"link2\">Lacie</a>\nand<a class=\"sister\" href=\"http://example.com/tillie\" id=\"link3\">Tillie</a>;\nand they lived at the bottom of a well.</p>\n<p class=\"story\">...</p>\n</body></html>"
      ]
     },
     "execution_count": 49,
     "metadata": {},
     "output_type": "execute_result"
    }
   ],
   "source": [
    "soup = BeautifulSoup(html_doc,'lxml')\n",
    "soup"
   ]
  },
  {
   "cell_type": "code",
   "execution_count": 50,
   "metadata": {},
   "outputs": [
    {
     "data": {
      "text/plain": [
       "[<title>The Dormouse's story</title>]"
      ]
     },
     "execution_count": 50,
     "metadata": {},
     "output_type": "execute_result"
    }
   ],
   "source": [
    "# 子节点有 .contents 和 .children 两种用法\n",
    "# content属性可以将标签所有子节点以 列表形式 返回\n",
    "soup.head.contents"
   ]
  },
  {
   "cell_type": "code",
   "execution_count": 52,
   "metadata": {},
   "outputs": [
    {
     "data": {
      "text/plain": [
       "['\\n',\n <p class=\"title\"><b>The Dormouse's story</b></p>,\n '\\n',\n <p class=\"story\">Once upon a time there were three little sisters; and their names were\n <a class=\"sister\" href=\"http://example.com/elsie\" id=\"link1\">Elsie</a>,\n <a class=\"sister\" href=\"http://example.com/lacie\" id=\"link2\">Lacie</a>\n and<a class=\"sister\" href=\"http://example.com/tillie\" id=\"link3\">Tillie</a>;\n and they lived at the bottom of a well.</p>,\n '\\n',\n <p class=\"story\">...</p>,\n '\\n']"
      ]
     },
     "execution_count": 52,
     "metadata": {},
     "output_type": "execute_result"
    }
   ],
   "source": [
    "# head下只有一个标签title，查看一下body下的子标签\n",
    "soup.body.contents # 子节点列表中有很多“\\n”，这是因为它把空格包括进去了"
   ]
  },
  {
   "cell_type": "code",
   "execution_count": 53,
   "metadata": {},
   "outputs": [
    {
     "data": {
      "text/plain": [
       "<list_iterator at 0x201de1ea9b0>"
      ]
     },
     "execution_count": 53,
     "metadata": {},
     "output_type": "execute_result"
    }
   ],
   "source": [
    "'''也可以通过 .chidren 得到相同的结果，\n",
    "只不过返回的children是一个生成器（generator），而不是一个列表'''\n",
    "soup.body.children"
   ]
  },
  {
   "cell_type": "code",
   "execution_count": 54,
   "metadata": {},
   "outputs": [
    {
     "name": "stdout",
     "output_type": "stream",
     "text": [
      "\n\n<p class=\"title\"><b>The Dormouse's story</b></p>\n\n\n<p class=\"story\">Once upon a time there were three little sisters; and their names were\n<a class=\"sister\" href=\"http://example.com/elsie\" id=\"link1\">Elsie</a>,\n<a class=\"sister\" href=\"http://example.com/lacie\" id=\"link2\">Lacie</a>\nand<a class=\"sister\" href=\"http://example.com/tillie\" id=\"link3\">Tillie</a>;\nand they lived at the bottom of a well.</p>\n\n\n<p class=\"story\">...</p>\n\n\n"
     ]
    }
   ],
   "source": [
    "for child in soup.body.children:\n",
    "    print(child)"
   ]
  },
  {
   "cell_type": "code",
   "execution_count": 57,
   "metadata": {},
   "outputs": [
    {
     "name": "stdout",
     "output_type": "stream",
     "text": [
      "<title>The Dormouse's story</title>\nThe Dormouse's story\n"
     ]
    }
   ],
   "source": [
    "# 子孙节点使用 .descendants 属性\n",
    "# .descendants 的用法和 .children 是一样的，会返回一个生成器，需要for..in..进行遍历。\n",
    "for child in soup.head.descendants:\n",
    "    print(child)\n",
    "# itle是head的子节点，而title中的字符串是title的子节点，\n",
    "# title和title所包含的字符串都是head的子孙节点"
   ]
  },
  {
   "cell_type": "code",
   "execution_count": 9,
   "metadata": {},
   "outputs": [
    {
     "name": "stdout",
     "output_type": "stream",
     "text": [
      "<title>The Dormouse's story</title>\n"
     ]
    },
    {
     "data": {
      "text/plain": [
       "'head'"
      ]
     },
     "execution_count": 9,
     "metadata": {},
     "output_type": "execute_result"
    }
   ],
   "source": [
    "# 父节点使用 .parent 属性实现，可以得到父辈的标签\n",
    "title_tag = soup.title\n",
    "print(title_tag)\n",
    "title_tag.parent\n",
    "title_tag.parent.name"
   ]
  },
  {
   "cell_type": "code",
   "execution_count": 66,
   "metadata": {},
   "outputs": [
    {
     "name": "stdout",
     "output_type": "stream",
     "text": [
      "p\nbody\nhtml\n[document]\n"
     ]
    }
   ],
   "source": [
    "# 获得全部父节点则使用 .parents 属性实现，可以循环得到所有的父辈的节点\n",
    "link = soup.a  # 第一个a元素\n",
    "for parent in link.parents:\n",
    "    if parent is None:\n",
    "        print(parent)\n",
    "    else:\n",
    "        print(parent.name)"
   ]
  },
  {
   "cell_type": "code",
   "execution_count": 5,
   "metadata": {},
   "outputs": [
    {
     "data": {
      "text/plain": [
       "'Once upon a time there were three little sisters; and their names were\\n'"
      ]
     },
     "execution_count": 5,
     "metadata": {},
     "output_type": "execute_result"
    }
   ],
   "source": [
    "# 兄弟节点使用 .next_sibling 和 .previous_sibling 属性\n",
    "# next_sibling 获取下一个兄弟节点，而previous_sibling 获取前一个兄弟节点\n",
    "a_tag = soup.find('a',id='link1')\n",
    "a_tag.next_sibling\n",
    "a_tag.previous_element"
   ]
  },
  {
   "cell_type": "code",
   "execution_count": 6,
   "metadata": {},
   "outputs": [
    {
     "name": "stdout",
     "output_type": "stream",
     "text": [
      "<a class=\"sister\" href=\"http://example.com/elsie\" id=\"link1\">Elsie</a>\n"
     ]
    },
    {
     "data": {
      "text/plain": [
       "'Elsie'"
      ]
     },
     "execution_count": 6,
     "metadata": {},
     "output_type": "execute_result"
    }
   ],
   "source": [
    "# 回退和前进,针对所有节点的回退和前进,不分辈分\n",
    "print(a_tag)\n",
    "a_tag.next_element"
   ]
  },
  {
   "cell_type": "code",
   "execution_count": 7,
   "metadata": {},
   "outputs": [
    {
     "data": {
      "text/plain": [
       "'Once upon a time there were three little sisters; and their names were\\n'"
      ]
     },
     "execution_count": 7,
     "metadata": {},
     "output_type": "execute_result"
    }
   ],
   "source": [
    "a_tag.previous_element"
   ]
  },
  {
   "cell_type": "code",
   "execution_count": 8,
   "metadata": {},
   "outputs": [
    {
     "name": "stdout",
     "output_type": "stream",
     "text": [
      "a\na\np\n"
     ]
    }
   ],
   "source": [
    "# 回退和前进也可以寻找所有的前后节点\n",
    "for elem in a_tag.next_elements:\n",
    "    if elem.name is None:\n",
    "        continue\n",
    "    print(elem.name)"
   ]
  },
  {
   "cell_type": "code",
   "execution_count": 10,
   "metadata": {},
   "outputs": [
    {
     "name": "stdout",
     "output_type": "stream",
     "text": [
      "<title>The Dormouse's story</title>\n"
     ]
    },
    {
     "data": {
      "text/plain": [
       "\"The Dormouse's story\""
      ]
     },
     "execution_count": 10,
     "metadata": {},
     "output_type": "execute_result"
    }
   ],
   "source": [
    "# 节点内容\n",
    "print(title_tag)\n",
    "title_tag.string"
   ]
  },
  {
   "cell_type": "code",
   "execution_count": 13,
   "metadata": {},
   "outputs": [
    {
     "name": "stdout",
     "output_type": "stream",
     "text": [
      "[<title>The Dormouse's story</title>]\n"
     ]
    },
    {
     "data": {
      "text/plain": [
       "\"The Dormouse's story\""
      ]
     },
     "execution_count": 13,
     "metadata": {},
     "output_type": "execute_result"
    }
   ],
   "source": [
    "head_tag = soup.head\n",
    "print(head_tag.contents)\n",
    "head_tag.string"
   ]
  },
  {
   "cell_type": "code",
   "execution_count": null,
   "metadata": {},
   "outputs": [],
   "source": []
  }
 ],
 "metadata": {
  "kernelspec": {
   "display_name": "Python 2",
   "language": "python",
   "name": "python2"
  },
  "language_info": {
   "codemirror_mode": {
    "name": "ipython",
    "version": 2
   },
   "file_extension": ".py",
   "mimetype": "text/x-python",
   "name": "python",
   "nbconvert_exporter": "python",
   "pygments_lexer": "ipython2",
   "version": "2.7.6"
  }
 },
 "nbformat": 4,
 "nbformat_minor": 0
}
