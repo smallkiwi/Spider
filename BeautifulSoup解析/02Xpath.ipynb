{
 "cells": [
  {
   "cell_type": "code",
   "execution_count": 1,
   "metadata": {
    "collapsed": true
   },
   "outputs": [],
   "source": [
    "import lxml\n",
    "import lxml.etree"
   ]
  },
  {
   "cell_type": "code",
   "execution_count": 2,
   "metadata": {},
   "outputs": [],
   "source": [
    "text = '''\n",
    "<bookstore>\n",
    "<book category=\"cooking\">\n",
    "<title lang=\"en\">Everyday Italian</title>\n",
    "<author>Giada De Laurentiis</author>\n",
    "<year>2005</year>\n",
    "<price>30.00</price>\n",
    "</book>\n",
    "<book category=\"children\">\n",
    "<title lang=\"en\">Harry Potter</title>\n",
    "<author>J K. Rowling</author>\n",
    "<year>2005</year>\n",
    "<price>29.99</price>\n",
    "</book>\n",
    "<book category=\"web\">\n",
    "<title lang=\"en\">XQuery Kick Start</title>\n",
    "<author>James McGovern</author>\n",
    "<author>Per Bothner</author>\n",
    "<author>Kurt Cagle</author>\n",
    "<author>James Linn</author>\n",
    "<author>Vaidyanathan Nagarajan</author>\n",
    "<year>2003</year>\n",
    "<price>49.99</price>\n",
    "</book>\n",
    "<book category=\"web\" cover=\"paperback\">\n",
    "<title lang=\"en\">Learning XML</title>\n",
    "<author>Erik T. Ray</author>\n",
    "<year>2003</year>\n",
    "<price>39.95</price>\n",
    "</book>\n",
    "</bookstore>\n",
    "'''"
   ]
  },
  {
   "cell_type": "code",
   "execution_count": 3,
   "metadata": {},
   "outputs": [],
   "source": [
    "html = lxml.etree.HTML(text)"
   ]
  },
  {
   "cell_type": "code",
   "execution_count": 28,
   "metadata": {},
   "outputs": [
    {
     "data": {
      "text/plain": [
       "['Everyday Italian', 'Harry Potter', 'XQuery Kick Start', 'Learning XML']"
      ]
     },
     "execution_count": 28,
     "metadata": {},
     "output_type": "execute_result"
    }
   ],
   "source": [
    "html.xpath('//title[@lang]')  # 选取所有拥有名为 lang 的属性的title 元素\n",
    "html.xpath('//title[@lang]/text()')"
   ]
  },
  {
   "cell_type": "code",
   "execution_count": 29,
   "metadata": {},
   "outputs": [
    {
     "data": {
      "text/plain": [
       "['Everyday Italian', 'Harry Potter', 'XQuery Kick Start', 'Learning XML']"
      ]
     },
     "execution_count": 29,
     "metadata": {},
     "output_type": "execute_result"
    }
   ],
   "source": [
    "html.xpath('//title[@lang=\"en\"]/text()')"
   ]
  },
  {
   "cell_type": "code",
   "execution_count": 15,
   "metadata": {},
   "outputs": [
    {
     "data": {
      "text/plain": [
       "['XQuery Kick Start', 'Learning XML']"
      ]
     },
     "execution_count": 15,
     "metadata": {},
     "output_type": "execute_result"
    }
   ],
   "source": [
    "html.xpath('//bookstore/book[price>35.00]/title/text()')"
   ]
  },
  {
   "cell_type": "code",
   "execution_count": 13,
   "metadata": {},
   "outputs": [
    {
     "data": {
      "text/plain": [
       "['49.99', '39.95']"
      ]
     },
     "execution_count": 13,
     "metadata": {},
     "output_type": "execute_result"
    }
   ],
   "source": [
    "html.xpath('//bookstore/book[price>35.00]/price/text()')"
   ]
  },
  {
   "cell_type": "code",
   "execution_count": 19,
   "metadata": {},
   "outputs": [],
   "source": [
    "text = '''\n",
    "<html><body>\n",
    "<div>\n",
    "<ul>\n",
    "<li class=\"item-0\"><a href=\"link1.html\">first item</a></li>\n",
    "<li class=\"item-1\"><a href=\"link2.html\">second item</a></li>\n",
    "<li class=\"item-inactive\"><a href=\"link3.html\">third item</li>\n",
    "<li class=\"item-1\"><a href=\"link4.html\">fourth item</a></li>\n",
    "<li class=\"item-0\"><a href=\"link5.html\">fifth item</a></li>\n",
    "</ul>\n",
    "</div>\n",
    "</body></html>\n",
    "'''"
   ]
  },
  {
   "cell_type": "code",
   "execution_count": 20,
   "metadata": {},
   "outputs": [],
   "source": [
    "html = lxml.etree.HTML(text)"
   ]
  },
  {
   "cell_type": "code",
   "execution_count": 21,
   "metadata": {},
   "outputs": [
    {
     "name": "stdout",
     "output_type": "stream",
     "text": [
      "5\n"
     ]
    }
   ],
   "source": [
    "result = html.xpath('//li')\n",
    "print(len(result))"
   ]
  },
  {
   "cell_type": "code",
   "execution_count": 22,
   "metadata": {},
   "outputs": [
    {
     "data": {
      "text/plain": [
       "['item-0', 'item-1', 'item-inactive', 'item-1', 'item-0']"
      ]
     },
     "execution_count": 22,
     "metadata": {},
     "output_type": "execute_result"
    }
   ],
   "source": [
    "html.xpath('//li/@class')"
   ]
  },
  {
   "cell_type": "code",
   "execution_count": null,
   "metadata": {},
   "outputs": [],
   "source": []
  }
 ],
 "metadata": {
  "kernelspec": {
   "display_name": "Python 2",
   "language": "python",
   "name": "python2"
  },
  "language_info": {
   "codemirror_mode": {
    "name": "ipython",
    "version": 2
   },
   "file_extension": ".py",
   "mimetype": "text/x-python",
   "name": "python",
   "nbconvert_exporter": "python",
   "pygments_lexer": "ipython2",
   "version": "2.7.6"
  }
 },
 "nbformat": 4,
 "nbformat_minor": 0
}
